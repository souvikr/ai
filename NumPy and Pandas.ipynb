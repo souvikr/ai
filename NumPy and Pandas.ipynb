{
 "cells": [
  {
   "cell_type": "code",
   "execution_count": 3,
   "id": "a5e386b8-be18-43f3-a0b9-4e3b9b79919f",
   "metadata": {},
   "outputs": [],
   "source": [
    "import numpy as np"
   ]
  },
  {
   "cell_type": "code",
   "execution_count": 4,
   "id": "397e5772-135a-4ac7-8373-b7078c65d946",
   "metadata": {},
   "outputs": [
    {
     "name": "stdout",
     "output_type": "stream",
     "text": [
      "Array: [1 2 3 4 5]\n"
     ]
    }
   ],
   "source": [
    "# 1. Creating arrays\n",
    "# np.array() creates an array from a list or tuple\n",
    "arr = np.array([1, 2, 3, 4, 5])\n",
    "print(\"Array:\", arr)"
   ]
  },
  {
   "cell_type": "code",
   "execution_count": 5,
   "id": "9c266657-f422-4963-a55f-1627309b06ed",
   "metadata": {},
   "outputs": [
    {
     "name": "stdout",
     "output_type": "stream",
     "text": [
      "Zeros:\n",
      " [[0. 0. 0.]\n",
      " [0. 0. 0.]\n",
      " [0. 0. 0.]]\n"
     ]
    }
   ],
   "source": [
    "# 2. Creating arrays with specific values\n",
    "# np.zeros() creates an array filled with zeros\n",
    "zeros = np.zeros((3, 3))\n",
    "print(\"Zeros:\\n\", zeros)"
   ]
  },
  {
   "cell_type": "code",
   "execution_count": 6,
   "id": "a973722f-5921-49bc-a15e-335c2080e17b",
   "metadata": {},
   "outputs": [
    {
     "name": "stdout",
     "output_type": "stream",
     "text": [
      "Ones:\n",
      " [[1. 1. 1. 1.]\n",
      " [1. 1. 1. 1.]]\n"
     ]
    }
   ],
   "source": [
    "# np.ones() creates an array filled with ones\n",
    "ones = np.ones((2, 4))\n",
    "print(\"Ones:\\n\", ones)"
   ]
  },
  {
   "cell_type": "code",
   "execution_count": 7,
   "id": "c007fbe4-af20-47af-8f05-4fc1760f3aec",
   "metadata": {},
   "outputs": [
    {
     "name": "stdout",
     "output_type": "stream",
     "text": [
      "Full:\n",
      " [[7 7]\n",
      " [7 7]]\n"
     ]
    }
   ],
   "source": [
    "# np.full() creates an array filled with a specified value\n",
    "full = np.full((2, 2), 7)\n",
    "print(\"Full:\\n\", full)\n"
   ]
  },
  {
   "cell_type": "code",
   "execution_count": 8,
   "id": "17fec1b6-76e6-4138-9997-bbaff01faec8",
   "metadata": {},
   "outputs": [
    {
     "name": "stdout",
     "output_type": "stream",
     "text": [
      "Identity Matrix:\n",
      " [[1. 0. 0.]\n",
      " [0. 1. 0.]\n",
      " [0. 0. 1.]]\n"
     ]
    }
   ],
   "source": [
    "# np.eye() creates an identity matrix\n",
    "identity = np.eye(3)\n",
    "print(\"Identity Matrix:\\n\", identity)"
   ]
  },
  {
   "cell_type": "code",
   "execution_count": 9,
   "id": "ed11826c-7c89-4abb-b81e-ef3b040fed6e",
   "metadata": {},
   "outputs": [
    {
     "name": "stdout",
     "output_type": "stream",
     "text": [
      "Arange: [0 2 4 6 8]\n"
     ]
    }
   ],
   "source": [
    "# np.arange() creates an array with a range of values\n",
    "arange = np.arange(0, 10, 2)\n",
    "print(\"Arange:\", arange)"
   ]
  },
  {
   "cell_type": "code",
   "execution_count": 56,
   "id": "0ff003c4-80fc-4ead-bc26-a6c1c47be581",
   "metadata": {},
   "outputs": [
    {
     "name": "stdout",
     "output_type": "stream",
     "text": [
      "Linspace: [0.         0.11111111 0.22222222 0.33333333 0.44444444 0.55555556\n",
      " 0.66666667 0.77777778 0.88888889 1.        ]\n"
     ]
    }
   ],
   "source": [
    "# np.linspace() creates an array with evenly spaced values over a specified interval\n",
    "linspace = np.linspace(0, 1, 10)\n",
    "print(\"Linspace:\", linspace)"
   ]
  },
  {
   "cell_type": "code",
   "execution_count": 53,
   "id": "aacb8776-7a6c-4f92-9985-6a6aea7ed720",
   "metadata": {
    "scrolled": true
   },
   "outputs": [
    {
     "name": "stdout",
     "output_type": "stream",
     "text": [
      "Reshaped:\n",
      " [[1 2 3 4 5]]\n"
     ]
    }
   ],
   "source": [
    "# 3. Reshaping arrays\n",
    "# np.reshape() reshapes an array without changing its data\n",
    "reshaped = arr.reshape((1, 5))\n",
    "print(\"Reshaped:\\n\", reshaped)"
   ]
  },
  {
   "cell_type": "code",
   "execution_count": 12,
   "id": "9ed62f0c-7d50-4ce6-b483-7a13e4b39888",
   "metadata": {},
   "outputs": [
    {
     "name": "stdout",
     "output_type": "stream",
     "text": [
      "Addition: [5 7 9]\n",
      "Subtraction: [-3 -3 -3]\n",
      "Multiplication: [ 4 10 18]\n",
      "Division: [0.25 0.4  0.5 ]\n"
     ]
    }
   ],
   "source": [
    "# 4. Basic operations\n",
    "# np.add(), np.subtract(), np.multiply(), np.divide() perform element-wise operations\n",
    "a = np.array([1, 2, 3])\n",
    "b = np.array([4, 5, 6])\n",
    "print(\"Addition:\", np.add(a, b))\n",
    "print(\"Subtraction:\", np.subtract(a, b))\n",
    "print(\"Multiplication:\", np.multiply(a, b))\n",
    "print(\"Division:\", np.divide(a, b))"
   ]
  },
  {
   "cell_type": "code",
   "execution_count": 13,
   "id": "ebaff552-0bea-48bf-aada-78ccab45a8e7",
   "metadata": {},
   "outputs": [
    {
     "name": "stdout",
     "output_type": "stream",
     "text": [
      "Dot Product: 32\n"
     ]
    }
   ],
   "source": [
    "# np.dot() performs dot product of two arrays\n",
    "dot_product = np.dot(a, b)\n",
    "print(\"Dot Product:\", dot_product)\n"
   ]
  },
  {
   "cell_type": "code",
   "execution_count": 14,
   "id": "c9b5f03a-8487-497e-9a13-a81010d785a3",
   "metadata": {},
   "outputs": [
    {
     "name": "stdout",
     "output_type": "stream",
     "text": [
      "Mean: 2.0\n",
      "Median: 2.0\n",
      "Standard Deviation: 0.816496580927726\n"
     ]
    }
   ],
   "source": [
    "# 5. Statistical operations\n",
    "# np.mean(), np.median(), np.std() compute mean, median, and standard deviation\n",
    "print(\"Mean:\", np.mean(a))\n",
    "print(\"Median:\", np.median(a))\n",
    "print(\"Standard Deviation:\", np.std(a))"
   ]
  },
  {
   "cell_type": "code",
   "execution_count": 21,
   "id": "460743d4-b7b9-49f2-8263-dc1d56511959",
   "metadata": {},
   "outputs": [
    {
     "name": "stdout",
     "output_type": "stream",
     "text": [
      "Element at index 1: 2\n",
      "Sliced array: [2 3]\n"
     ]
    }
   ],
   "source": [
    "# 6. Indexing and slicing\n",
    "# Accessing elements using indices\n",
    "print(\"Element at index 1:\", a[1])\n",
    "# Slicing arrays\n",
    "print(\"Sliced array:\", a[1:3])"
   ]
  },
  {
   "cell_type": "code",
   "execution_count": 16,
   "id": "1c116bd2-1dfc-4b43-9254-3723c2cb783e",
   "metadata": {},
   "outputs": [
    {
     "name": "stdout",
     "output_type": "stream",
     "text": [
      "Condition: [False False  True]\n",
      "Elements greater than 2: [3]\n",
      "Elements with np.where: [-1 -1  3]\n"
     ]
    }
   ],
   "source": [
    "# 7. Conditional selection\n",
    "# np.where() returns elements chosen from x or y depending on condition\n",
    "condition = a > 2\n",
    "print(\"Condition:\", condition)\n",
    "print(\"Elements greater than 2:\", a[condition])\n",
    "print(\"Elements with np.where:\", np.where(a > 2, a, -1))"
   ]
  },
  {
   "cell_type": "code",
   "execution_count": 22,
   "id": "5bfaee63-4758-4fec-b05f-dedc90bb39a5",
   "metadata": {},
   "outputs": [
    {
     "name": "stdout",
     "output_type": "stream",
     "text": [
      "Random Floats:\n",
      " [[0.40525292 0.2671577 ]\n",
      " [0.52300607 0.3492583 ]]\n"
     ]
    }
   ],
   "source": [
    "# 8. Random functions\n",
    "# np.random.random() generates an array of random floats between 0 and 1\n",
    "random_floats = np.random.random((2, 2))\n",
    "print(\"Random Floats:\\n\", random_floats)"
   ]
  },
  {
   "cell_type": "code",
   "execution_count": 23,
   "id": "0a2582ae-b369-4cb5-b4f2-07aa7227fb4c",
   "metadata": {},
   "outputs": [
    {
     "name": "stdout",
     "output_type": "stream",
     "text": [
      "Random Integers:\n",
      " [[1 0 3]\n",
      " [7 9 2]]\n"
     ]
    }
   ],
   "source": [
    "# np.random.randint() generates an array of random integers within a specified range\n",
    "random_ints = np.random.randint(0, 10, (2, 3))\n",
    "print(\"Random Integers:\\n\", random_ints)"
   ]
  },
  {
   "cell_type": "code",
   "execution_count": 24,
   "id": "ac325a1e-ffbd-4df2-8787-84ef0734ecb1",
   "metadata": {},
   "outputs": [
    {
     "name": "stdout",
     "output_type": "stream",
     "text": [
      "Sum: 6\n",
      "Product: 6\n",
      "Cumulative Sum: [1 3 6]\n"
     ]
    }
   ],
   "source": [
    "# 9. Aggregation functions\n",
    "# np.sum(), np.prod(), np.cumsum() compute sum, product, and cumulative sum\n",
    "print(\"Sum:\", np.sum(a))\n",
    "print(\"Product:\", np.prod(a))\n",
    "print(\"Cumulative Sum:\", np.cumsum(a))"
   ]
  },
  {
   "cell_type": "code",
   "execution_count": 25,
   "id": "2bcb8765-a088-44bf-b15c-f806f99e9c0e",
   "metadata": {},
   "outputs": [
    {
     "name": "stdout",
     "output_type": "stream",
     "text": [
      "Concatenated: [1 2 3 4 5 6]\n"
     ]
    }
   ],
   "source": [
    "# 10. Concatenation and stacking\n",
    "# np.concatenate() joins a sequence of arrays along an existing axis\n",
    "concatenated = np.concatenate((a, b))\n",
    "print(\"Concatenated:\", concatenated)"
   ]
  },
  {
   "cell_type": "code",
   "execution_count": 26,
   "id": "5bcf235b-83c9-46c2-960b-b25a46a2b85d",
   "metadata": {},
   "outputs": [
    {
     "name": "stdout",
     "output_type": "stream",
     "text": [
      "Vstacked:\n",
      " [[1 2 3]\n",
      " [4 5 6]]\n"
     ]
    }
   ],
   "source": [
    "# np.vstack() stacks arrays in sequence vertically (row-wise)\n",
    "vstacked = np.vstack((a, b))\n",
    "print(\"Vstacked:\\n\", vstacked)"
   ]
  },
  {
   "cell_type": "code",
   "execution_count": 27,
   "id": "e691d139-f283-4fd5-99b9-e5cebd608791",
   "metadata": {},
   "outputs": [
    {
     "name": "stdout",
     "output_type": "stream",
     "text": [
      "Hstacked: [1 2 3 4 5 6]\n"
     ]
    }
   ],
   "source": [
    "# np.hstack() stacks arrays in sequence horizontally (column-wise)\n",
    "hstacked = np.hstack((a, b))\n",
    "print(\"Hstacked:\", hstacked)"
   ]
  },
  {
   "cell_type": "code",
   "execution_count": 28,
   "id": "008da5ad-6241-4c48-8fb5-d26f65b8a036",
   "metadata": {},
   "outputs": [],
   "source": [
    "import pandas as pd"
   ]
  },
  {
   "cell_type": "code",
   "execution_count": 29,
   "id": "d6347e6a-f0b1-4493-b8e7-145af73d3a5e",
   "metadata": {},
   "outputs": [
    {
     "name": "stdout",
     "output_type": "stream",
     "text": [
      "DataFrame:\n",
      "       Name  Age         City\n",
      "0    Alice   25     New York\n",
      "1      Bob   30  Los Angeles\n",
      "2  Charlie   35      Chicago\n",
      "3    David   40      Houston\n"
     ]
    }
   ],
   "source": [
    "# 1. Creating DataFrames\n",
    "# Creating a DataFrame from a dictionary\n",
    "data = {'Name': ['Alice', 'Bob', 'Charlie', 'David'],\n",
    "        'Age': [25, 30, 35, 40],\n",
    "        'City': ['New York', 'Los Angeles', 'Chicago', 'Houston']}\n",
    "df = pd.DataFrame(data)\n",
    "print(\"DataFrame:\\n\", df)"
   ]
  },
  {
   "cell_type": "code",
   "execution_count": 30,
   "id": "f37f0fc2-22f4-4ee6-b733-ed8db758cff3",
   "metadata": {},
   "outputs": [
    {
     "data": {
      "text/html": [
       "<div>\n",
       "<style scoped>\n",
       "    .dataframe tbody tr th:only-of-type {\n",
       "        vertical-align: middle;\n",
       "    }\n",
       "\n",
       "    .dataframe tbody tr th {\n",
       "        vertical-align: top;\n",
       "    }\n",
       "\n",
       "    .dataframe thead th {\n",
       "        text-align: right;\n",
       "    }\n",
       "</style>\n",
       "<table border=\"1\" class=\"dataframe\">\n",
       "  <thead>\n",
       "    <tr style=\"text-align: right;\">\n",
       "      <th></th>\n",
       "      <th>Name</th>\n",
       "      <th>Age</th>\n",
       "      <th>City</th>\n",
       "    </tr>\n",
       "  </thead>\n",
       "  <tbody>\n",
       "    <tr>\n",
       "      <th>0</th>\n",
       "      <td>Alice</td>\n",
       "      <td>25</td>\n",
       "      <td>New York</td>\n",
       "    </tr>\n",
       "    <tr>\n",
       "      <th>1</th>\n",
       "      <td>Bob</td>\n",
       "      <td>30</td>\n",
       "      <td>Los Angeles</td>\n",
       "    </tr>\n",
       "    <tr>\n",
       "      <th>2</th>\n",
       "      <td>Charlie</td>\n",
       "      <td>35</td>\n",
       "      <td>Chicago</td>\n",
       "    </tr>\n",
       "    <tr>\n",
       "      <th>3</th>\n",
       "      <td>David</td>\n",
       "      <td>40</td>\n",
       "      <td>Houston</td>\n",
       "    </tr>\n",
       "  </tbody>\n",
       "</table>\n",
       "</div>"
      ],
      "text/plain": [
       "      Name  Age         City\n",
       "0    Alice   25     New York\n",
       "1      Bob   30  Los Angeles\n",
       "2  Charlie   35      Chicago\n",
       "3    David   40      Houston"
      ]
     },
     "execution_count": 30,
     "metadata": {},
     "output_type": "execute_result"
    }
   ],
   "source": [
    "df"
   ]
  },
  {
   "cell_type": "code",
   "execution_count": 57,
   "id": "4fbae3a2-3da1-4a29-9785-06c92ad40be5",
   "metadata": {},
   "outputs": [
    {
     "data": {
      "text/html": [
       "<div>\n",
       "<style scoped>\n",
       "    .dataframe tbody tr th:only-of-type {\n",
       "        vertical-align: middle;\n",
       "    }\n",
       "\n",
       "    .dataframe tbody tr th {\n",
       "        vertical-align: top;\n",
       "    }\n",
       "\n",
       "    .dataframe thead th {\n",
       "        text-align: right;\n",
       "    }\n",
       "</style>\n",
       "<table border=\"1\" class=\"dataframe\">\n",
       "  <thead>\n",
       "    <tr style=\"text-align: right;\">\n",
       "      <th></th>\n",
       "      <th>Name</th>\n",
       "      <th>Age</th>\n",
       "      <th>Salary</th>\n",
       "    </tr>\n",
       "  </thead>\n",
       "  <tbody>\n",
       "    <tr>\n",
       "      <th>0</th>\n",
       "      <td>Alice</td>\n",
       "      <td>26</td>\n",
       "      <td>50000</td>\n",
       "    </tr>\n",
       "    <tr>\n",
       "      <th>1</th>\n",
       "      <td>Bob</td>\n",
       "      <td>30</td>\n",
       "      <td>60000</td>\n",
       "    </tr>\n",
       "  </tbody>\n",
       "</table>\n",
       "</div>"
      ],
      "text/plain": [
       "    Name  Age  Salary\n",
       "0  Alice   26   50000\n",
       "1    Bob   30   60000"
      ]
     },
     "execution_count": 57,
     "metadata": {},
     "output_type": "execute_result"
    }
   ],
   "source": [
    "# 2. Basic DataFrame Operations\n",
    "# Viewing the first few rows of the DataFrame\n",
    "df.head(2)"
   ]
  },
  {
   "cell_type": "code",
   "execution_count": 59,
   "id": "b501403a-77c2-4041-8938-43457212fc3c",
   "metadata": {},
   "outputs": [
    {
     "data": {
      "text/html": [
       "<div>\n",
       "<style scoped>\n",
       "    .dataframe tbody tr th:only-of-type {\n",
       "        vertical-align: middle;\n",
       "    }\n",
       "\n",
       "    .dataframe tbody tr th {\n",
       "        vertical-align: top;\n",
       "    }\n",
       "\n",
       "    .dataframe thead th {\n",
       "        text-align: right;\n",
       "    }\n",
       "</style>\n",
       "<table border=\"1\" class=\"dataframe\">\n",
       "  <thead>\n",
       "    <tr style=\"text-align: right;\">\n",
       "      <th></th>\n",
       "      <th>Name</th>\n",
       "      <th>Age</th>\n",
       "      <th>Salary</th>\n",
       "    </tr>\n",
       "  </thead>\n",
       "  <tbody>\n",
       "    <tr>\n",
       "      <th>2</th>\n",
       "      <td>Charlie</td>\n",
       "      <td>35</td>\n",
       "      <td>70000</td>\n",
       "    </tr>\n",
       "    <tr>\n",
       "      <th>3</th>\n",
       "      <td>David</td>\n",
       "      <td>40</td>\n",
       "      <td>80000</td>\n",
       "    </tr>\n",
       "  </tbody>\n",
       "</table>\n",
       "</div>"
      ],
      "text/plain": [
       "      Name  Age  Salary\n",
       "2  Charlie   35   70000\n",
       "3    David   40   80000"
      ]
     },
     "execution_count": 59,
     "metadata": {},
     "output_type": "execute_result"
    }
   ],
   "source": [
    "# Viewing the last few rows of the DataFrame\n",
    "df.tail(2)"
   ]
  },
  {
   "cell_type": "code",
   "execution_count": 37,
   "id": "25dc4bfc-f1db-42aa-a2d7-30ac63836250",
   "metadata": {},
   "outputs": [
    {
     "name": "stdout",
     "output_type": "stream",
     "text": [
      "<class 'pandas.core.frame.DataFrame'>\n",
      "RangeIndex: 4 entries, 0 to 3\n",
      "Data columns (total 3 columns):\n",
      " #   Column  Non-Null Count  Dtype \n",
      "---  ------  --------------  ----- \n",
      " 0   Name    4 non-null      object\n",
      " 1   Age     4 non-null      int64 \n",
      " 2   City    4 non-null      object\n",
      "dtypes: int64(1), object(2)\n",
      "memory usage: 228.0+ bytes\n",
      "Info:\n",
      " None\n"
     ]
    }
   ],
   "source": [
    "# Getting basic information about the DataFrame\n",
    "print(\"Info:\\n\", df.info())"
   ]
  },
  {
   "cell_type": "code",
   "execution_count": 38,
   "id": "23db4745-1fa8-44b8-9292-570cfab630f7",
   "metadata": {},
   "outputs": [
    {
     "data": {
      "text/html": [
       "<div>\n",
       "<style scoped>\n",
       "    .dataframe tbody tr th:only-of-type {\n",
       "        vertical-align: middle;\n",
       "    }\n",
       "\n",
       "    .dataframe tbody tr th {\n",
       "        vertical-align: top;\n",
       "    }\n",
       "\n",
       "    .dataframe thead th {\n",
       "        text-align: right;\n",
       "    }\n",
       "</style>\n",
       "<table border=\"1\" class=\"dataframe\">\n",
       "  <thead>\n",
       "    <tr style=\"text-align: right;\">\n",
       "      <th></th>\n",
       "      <th>Age</th>\n",
       "    </tr>\n",
       "  </thead>\n",
       "  <tbody>\n",
       "    <tr>\n",
       "      <th>count</th>\n",
       "      <td>4.000000</td>\n",
       "    </tr>\n",
       "    <tr>\n",
       "      <th>mean</th>\n",
       "      <td>32.500000</td>\n",
       "    </tr>\n",
       "    <tr>\n",
       "      <th>std</th>\n",
       "      <td>6.454972</td>\n",
       "    </tr>\n",
       "    <tr>\n",
       "      <th>min</th>\n",
       "      <td>25.000000</td>\n",
       "    </tr>\n",
       "    <tr>\n",
       "      <th>25%</th>\n",
       "      <td>28.750000</td>\n",
       "    </tr>\n",
       "    <tr>\n",
       "      <th>50%</th>\n",
       "      <td>32.500000</td>\n",
       "    </tr>\n",
       "    <tr>\n",
       "      <th>75%</th>\n",
       "      <td>36.250000</td>\n",
       "    </tr>\n",
       "    <tr>\n",
       "      <th>max</th>\n",
       "      <td>40.000000</td>\n",
       "    </tr>\n",
       "  </tbody>\n",
       "</table>\n",
       "</div>"
      ],
      "text/plain": [
       "             Age\n",
       "count   4.000000\n",
       "mean   32.500000\n",
       "std     6.454972\n",
       "min    25.000000\n",
       "25%    28.750000\n",
       "50%    32.500000\n",
       "75%    36.250000\n",
       "max    40.000000"
      ]
     },
     "execution_count": 38,
     "metadata": {},
     "output_type": "execute_result"
    }
   ],
   "source": [
    "df.describe()"
   ]
  },
  {
   "cell_type": "code",
   "execution_count": 60,
   "id": "4f8cfabc-47c7-440d-9afe-18035e5323aa",
   "metadata": {},
   "outputs": [
    {
     "data": {
      "text/html": [
       "<div>\n",
       "<style scoped>\n",
       "    .dataframe tbody tr th:only-of-type {\n",
       "        vertical-align: middle;\n",
       "    }\n",
       "\n",
       "    .dataframe tbody tr th {\n",
       "        vertical-align: top;\n",
       "    }\n",
       "\n",
       "    .dataframe thead th {\n",
       "        text-align: right;\n",
       "    }\n",
       "</style>\n",
       "<table border=\"1\" class=\"dataframe\">\n",
       "  <thead>\n",
       "    <tr style=\"text-align: right;\">\n",
       "      <th></th>\n",
       "      <th>Name</th>\n",
       "      <th>Salary</th>\n",
       "    </tr>\n",
       "  </thead>\n",
       "  <tbody>\n",
       "    <tr>\n",
       "      <th>0</th>\n",
       "      <td>Alice</td>\n",
       "      <td>50000</td>\n",
       "    </tr>\n",
       "    <tr>\n",
       "      <th>1</th>\n",
       "      <td>Bob</td>\n",
       "      <td>60000</td>\n",
       "    </tr>\n",
       "    <tr>\n",
       "      <th>2</th>\n",
       "      <td>Charlie</td>\n",
       "      <td>70000</td>\n",
       "    </tr>\n",
       "    <tr>\n",
       "      <th>3</th>\n",
       "      <td>David</td>\n",
       "      <td>80000</td>\n",
       "    </tr>\n",
       "  </tbody>\n",
       "</table>\n",
       "</div>"
      ],
      "text/plain": [
       "      Name  Salary\n",
       "0    Alice   50000\n",
       "1      Bob   60000\n",
       "2  Charlie   70000\n",
       "3    David   80000"
      ]
     },
     "execution_count": 60,
     "metadata": {},
     "output_type": "execute_result"
    }
   ],
   "source": [
    "df[['Name', 'Salary']]"
   ]
  },
  {
   "cell_type": "code",
   "execution_count": 42,
   "id": "3dd84d73-8ce4-4e65-a199-535edff32af6",
   "metadata": {},
   "outputs": [
    {
     "data": {
      "text/plain": [
       "Name       Alice\n",
       "Age           25\n",
       "City    New York\n",
       "Name: 0, dtype: object"
      ]
     },
     "execution_count": 42,
     "metadata": {},
     "output_type": "execute_result"
    }
   ],
   "source": [
    "df.iloc[0]"
   ]
  },
  {
   "cell_type": "code",
   "execution_count": 63,
   "id": "8a172b4b-4822-4e12-9c52-52195fc5b2b9",
   "metadata": {},
   "outputs": [
    {
     "data": {
      "text/html": [
       "<div>\n",
       "<style scoped>\n",
       "    .dataframe tbody tr th:only-of-type {\n",
       "        vertical-align: middle;\n",
       "    }\n",
       "\n",
       "    .dataframe tbody tr th {\n",
       "        vertical-align: top;\n",
       "    }\n",
       "\n",
       "    .dataframe thead th {\n",
       "        text-align: right;\n",
       "    }\n",
       "</style>\n",
       "<table border=\"1\" class=\"dataframe\">\n",
       "  <thead>\n",
       "    <tr style=\"text-align: right;\">\n",
       "      <th></th>\n",
       "      <th>Name</th>\n",
       "      <th>Age</th>\n",
       "      <th>Salary</th>\n",
       "    </tr>\n",
       "  </thead>\n",
       "  <tbody>\n",
       "    <tr>\n",
       "      <th>0</th>\n",
       "      <td>Alice</td>\n",
       "      <td>26</td>\n",
       "      <td>50000</td>\n",
       "    </tr>\n",
       "    <tr>\n",
       "      <th>1</th>\n",
       "      <td>Bob</td>\n",
       "      <td>30</td>\n",
       "      <td>60000</td>\n",
       "    </tr>\n",
       "    <tr>\n",
       "      <th>2</th>\n",
       "      <td>Charlie</td>\n",
       "      <td>35</td>\n",
       "      <td>70000</td>\n",
       "    </tr>\n",
       "    <tr>\n",
       "      <th>3</th>\n",
       "      <td>David</td>\n",
       "      <td>40</td>\n",
       "      <td>80000</td>\n",
       "    </tr>\n",
       "  </tbody>\n",
       "</table>\n",
       "</div>"
      ],
      "text/plain": [
       "      Name  Age  Salary\n",
       "0    Alice   26   50000\n",
       "1      Bob   30   60000\n",
       "2  Charlie   35   70000\n",
       "3    David   40   80000"
      ]
     },
     "execution_count": 63,
     "metadata": {},
     "output_type": "execute_result"
    }
   ],
   "source": [
    "df[df['Age'] > 20]"
   ]
  },
  {
   "cell_type": "code",
   "execution_count": 44,
   "id": "3efb5c58-841c-455d-aa9a-a6bc1885ba20",
   "metadata": {},
   "outputs": [
    {
     "data": {
      "text/html": [
       "<div>\n",
       "<style scoped>\n",
       "    .dataframe tbody tr th:only-of-type {\n",
       "        vertical-align: middle;\n",
       "    }\n",
       "\n",
       "    .dataframe tbody tr th {\n",
       "        vertical-align: top;\n",
       "    }\n",
       "\n",
       "    .dataframe thead th {\n",
       "        text-align: right;\n",
       "    }\n",
       "</style>\n",
       "<table border=\"1\" class=\"dataframe\">\n",
       "  <thead>\n",
       "    <tr style=\"text-align: right;\">\n",
       "      <th></th>\n",
       "      <th>Name</th>\n",
       "      <th>Age</th>\n",
       "      <th>City</th>\n",
       "      <th>Salary</th>\n",
       "    </tr>\n",
       "  </thead>\n",
       "  <tbody>\n",
       "    <tr>\n",
       "      <th>0</th>\n",
       "      <td>Alice</td>\n",
       "      <td>25</td>\n",
       "      <td>New York</td>\n",
       "      <td>50000</td>\n",
       "    </tr>\n",
       "    <tr>\n",
       "      <th>1</th>\n",
       "      <td>Bob</td>\n",
       "      <td>30</td>\n",
       "      <td>Los Angeles</td>\n",
       "      <td>60000</td>\n",
       "    </tr>\n",
       "    <tr>\n",
       "      <th>2</th>\n",
       "      <td>Charlie</td>\n",
       "      <td>35</td>\n",
       "      <td>Chicago</td>\n",
       "      <td>70000</td>\n",
       "    </tr>\n",
       "    <tr>\n",
       "      <th>3</th>\n",
       "      <td>David</td>\n",
       "      <td>40</td>\n",
       "      <td>Houston</td>\n",
       "      <td>80000</td>\n",
       "    </tr>\n",
       "  </tbody>\n",
       "</table>\n",
       "</div>"
      ],
      "text/plain": [
       "      Name  Age         City  Salary\n",
       "0    Alice   25     New York   50000\n",
       "1      Bob   30  Los Angeles   60000\n",
       "2  Charlie   35      Chicago   70000\n",
       "3    David   40      Houston   80000"
      ]
     },
     "execution_count": 44,
     "metadata": {},
     "output_type": "execute_result"
    }
   ],
   "source": [
    "df['Salary'] = [50000, 60000, 70000, 80000]\n",
    "df"
   ]
  },
  {
   "cell_type": "code",
   "execution_count": 45,
   "id": "1af25fda-da0d-46c1-abd3-5b235d58fd8b",
   "metadata": {},
   "outputs": [
    {
     "data": {
      "text/html": [
       "<div>\n",
       "<style scoped>\n",
       "    .dataframe tbody tr th:only-of-type {\n",
       "        vertical-align: middle;\n",
       "    }\n",
       "\n",
       "    .dataframe tbody tr th {\n",
       "        vertical-align: top;\n",
       "    }\n",
       "\n",
       "    .dataframe thead th {\n",
       "        text-align: right;\n",
       "    }\n",
       "</style>\n",
       "<table border=\"1\" class=\"dataframe\">\n",
       "  <thead>\n",
       "    <tr style=\"text-align: right;\">\n",
       "      <th></th>\n",
       "      <th>Name</th>\n",
       "      <th>Age</th>\n",
       "      <th>City</th>\n",
       "      <th>Salary</th>\n",
       "    </tr>\n",
       "  </thead>\n",
       "  <tbody>\n",
       "    <tr>\n",
       "      <th>0</th>\n",
       "      <td>Alice</td>\n",
       "      <td>26</td>\n",
       "      <td>New York</td>\n",
       "      <td>50000</td>\n",
       "    </tr>\n",
       "    <tr>\n",
       "      <th>1</th>\n",
       "      <td>Bob</td>\n",
       "      <td>30</td>\n",
       "      <td>Los Angeles</td>\n",
       "      <td>60000</td>\n",
       "    </tr>\n",
       "    <tr>\n",
       "      <th>2</th>\n",
       "      <td>Charlie</td>\n",
       "      <td>35</td>\n",
       "      <td>Chicago</td>\n",
       "      <td>70000</td>\n",
       "    </tr>\n",
       "    <tr>\n",
       "      <th>3</th>\n",
       "      <td>David</td>\n",
       "      <td>40</td>\n",
       "      <td>Houston</td>\n",
       "      <td>80000</td>\n",
       "    </tr>\n",
       "  </tbody>\n",
       "</table>\n",
       "</div>"
      ],
      "text/plain": [
       "      Name  Age         City  Salary\n",
       "0    Alice   26     New York   50000\n",
       "1      Bob   30  Los Angeles   60000\n",
       "2  Charlie   35      Chicago   70000\n",
       "3    David   40      Houston   80000"
      ]
     },
     "execution_count": 45,
     "metadata": {},
     "output_type": "execute_result"
    }
   ],
   "source": [
    "df.loc[0, 'Age'] = 26\n",
    "df"
   ]
  },
  {
   "cell_type": "code",
   "execution_count": 46,
   "id": "b1d634d8-3f26-4210-8bfc-508869fb9799",
   "metadata": {},
   "outputs": [],
   "source": [
    "df = df.drop(columns=['City'])"
   ]
  },
  {
   "cell_type": "code",
   "execution_count": 47,
   "id": "f5bf62d5-ced6-4c21-a274-55c334b7af4c",
   "metadata": {},
   "outputs": [
    {
     "data": {
      "text/html": [
       "<div>\n",
       "<style scoped>\n",
       "    .dataframe tbody tr th:only-of-type {\n",
       "        vertical-align: middle;\n",
       "    }\n",
       "\n",
       "    .dataframe tbody tr th {\n",
       "        vertical-align: top;\n",
       "    }\n",
       "\n",
       "    .dataframe thead th {\n",
       "        text-align: right;\n",
       "    }\n",
       "</style>\n",
       "<table border=\"1\" class=\"dataframe\">\n",
       "  <thead>\n",
       "    <tr style=\"text-align: right;\">\n",
       "      <th></th>\n",
       "      <th>Name</th>\n",
       "      <th>Age</th>\n",
       "      <th>Salary</th>\n",
       "    </tr>\n",
       "  </thead>\n",
       "  <tbody>\n",
       "    <tr>\n",
       "      <th>0</th>\n",
       "      <td>Alice</td>\n",
       "      <td>26</td>\n",
       "      <td>50000</td>\n",
       "    </tr>\n",
       "    <tr>\n",
       "      <th>1</th>\n",
       "      <td>Bob</td>\n",
       "      <td>30</td>\n",
       "      <td>60000</td>\n",
       "    </tr>\n",
       "    <tr>\n",
       "      <th>2</th>\n",
       "      <td>Charlie</td>\n",
       "      <td>35</td>\n",
       "      <td>70000</td>\n",
       "    </tr>\n",
       "    <tr>\n",
       "      <th>3</th>\n",
       "      <td>David</td>\n",
       "      <td>40</td>\n",
       "      <td>80000</td>\n",
       "    </tr>\n",
       "  </tbody>\n",
       "</table>\n",
       "</div>"
      ],
      "text/plain": [
       "      Name  Age  Salary\n",
       "0    Alice   26   50000\n",
       "1      Bob   30   60000\n",
       "2  Charlie   35   70000\n",
       "3    David   40   80000"
      ]
     },
     "execution_count": 47,
     "metadata": {},
     "output_type": "execute_result"
    }
   ],
   "source": [
    "df"
   ]
  },
  {
   "cell_type": "code",
   "execution_count": null,
   "id": "181e7433-4983-414a-ad35-61b5cbaba86f",
   "metadata": {},
   "outputs": [],
   "source": [
    "# 5. Handling Missing Data\n",
    "# Creating a DataFrame with missing values\n",
    "data_with_nan = {'Name': ['Alice', 'Bob', None, 'David'],\n",
    "                 'Age': [25, None, 35, 40],\n",
    "                 'City': ['New York', 'Los Angeles', 'Chicago', None]}\n",
    "df_nan = pd.DataFrame(data_with_nan)\n",
    "print(\"DataFrame with NaN:\\n\", df_nan)\n",
    "\n",
    "# Checking for missing values\n",
    "print(\"Missing values:\\n\", df_nan.isnull())\n",
    "\n",
    "# Dropping rows with missing values\n",
    "print(\"Drop rows with NaN:\\n\", df_nan.dropna())\n",
    "\n",
    "# Filling missing values\n",
    "print(\"Fill NaN with 'Unknown':\\n\", df_nan.fillna('Unknown'))\n",
    "\n",
    "# 6. Grouping and Aggregating Data\n",
    "# Grouping by a column and calculating the mean\n",
    "grouped = df.groupby('Name').mean()\n",
    "print(\"Grouped by Name (mean):\\n\", grouped)\n",
    "\n",
    "# Aggregating data\n",
    "aggregated = df.groupby('Name').agg({'Age': 'mean', 'Salary': 'sum'})\n",
    "print(\"Aggregated:\\n\", aggregated)\n",
    "\n",
    "# 7. Merging and Joining DataFrames\n",
    "# Creating another DataFrame\n",
    "data2 = {'Name': ['Alice', 'Bob', 'Charlie', 'David'],\n",
    "         'Department': ['HR', 'Finance', 'Engineering', 'Marketing']}\n",
    "df2 = pd.DataFrame(data2)\n",
    "\n",
    "# Merging DataFrames\n",
    "merged = pd.merge(df, df2, on='Name')\n",
    "print(\"Merged DataFrame:\\n\", merged)\n",
    "\n",
    "# 8. Reshaping DataFrames\n",
    "# Pivoting DataFrames\n",
    "pivoted = merged.pivot(index='Name', columns='Department', values='Salary')\n",
    "print(\"Pivoted DataFrame:\\n\", pivoted)\n",
    "\n",
    "# Melting DataFrames\n",
    "melted = pd.melt(df, id_vars=['Name'], value_vars=['Age', 'Salary'])\n",
    "print(\"Melted DataFrame:\\n\", melted)\n",
    "\n",
    "# 9. Saving DataFrames\n",
    "# Saving to a CSV file\n",
    "# df.to_csv('output.csv', index=False)\n",
    "\n",
    "# Saving to an Excel file\n",
    "# df.to_excel('output.xlsx', index=False)"
   ]
  }
 ],
 "metadata": {
  "kernelspec": {
   "display_name": "Python 3 (ipykernel)",
   "language": "python",
   "name": "python3"
  },
  "language_info": {
   "codemirror_mode": {
    "name": "ipython",
    "version": 3
   },
   "file_extension": ".py",
   "mimetype": "text/x-python",
   "name": "python",
   "nbconvert_exporter": "python",
   "pygments_lexer": "ipython3",
   "version": "3.11.7"
  }
 },
 "nbformat": 4,
 "nbformat_minor": 5
}
